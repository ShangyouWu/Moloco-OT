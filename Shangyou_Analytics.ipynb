{
 "cells": [
  {
   "cell_type": "markdown",
   "metadata": {},
   "source": [
    "# Analytics"
   ]
  },
  {
   "cell_type": "code",
   "execution_count": 1,
   "metadata": {},
   "outputs": [],
   "source": [
    "# Import packages and read data\n",
    "\n",
    "import pandas as pd\n",
    "from datetime import datetime\n",
    "\n",
    "df_1 = pd.read_excel('Adops & Data Scientist Sample Data.xlsx', sheet_name=0)"
   ]
  },
  {
   "cell_type": "markdown",
   "metadata": {},
   "source": [
    "### Question 1: Consider only the rows with country_id = \"BDV\" (there are 844 such rows). For each site_id, we can compute the number of unique user_id's found in these 844 rows. Which site_id has the largest number of unique users? And what's the number?"
   ]
  },
  {
   "cell_type": "code",
   "execution_count": 2,
   "metadata": {},
   "outputs": [
    {
     "name": "stdout",
     "output_type": "stream",
     "text": [
      "5NPAU 544\n"
     ]
    }
   ],
   "source": [
    "# Groupby site and calculate the number of unique users for each site, \n",
    "# then select the site with the largest number of unique users.\n",
    "\n",
    "q1 = df_1[df_1.country_id=='BDV'].groupby('site_id').user_id.nunique()\n",
    "print(q1.idxmax(), q1.max())"
   ]
  },
  {
   "cell_type": "markdown",
   "metadata": {},
   "source": [
    "### Qustion 2: Between 2019-02-03 00:00:00 and 2019-02-04 23:59:59, there are four users who visited a certain site more than 10 times. Find these four users & which sites they (each) visited more than 10 times. (Simply provides four triples in the form (user_id, site_id, number of visits) in the box below.)"
   ]
  },
  {
   "cell_type": "code",
   "execution_count": 3,
   "metadata": {},
   "outputs": [
    {
     "data": {
      "text/plain": [
       "[('LC06C3', 'N0OTG', 25),\n",
       " ('LC3A59', 'N0OTG', 26),\n",
       " ('LC3C7E', '3POLC', 15),\n",
       " ('LC3C9D', 'N0OTG', 17)]"
      ]
     },
     "execution_count": 3,
     "metadata": {},
     "output_type": "execute_result"
    }
   ],
   "source": [
    "# Groupby \"user visiting site\", and calculate the numbers of visits,\n",
    "# then select those greater than 10 times.\n",
    "\n",
    "df_1.ts = pd.to_datetime(df_1.ts)\n",
    "start = datetime(2019,2,3,0,0,0)\n",
    "end = datetime(2019,2,4,23,59,59)\n",
    "\n",
    "q2 = df_1[(df_1.ts>=start) & (df_1.ts<=end)].groupby(['user_id', 'site_id']).size().to_frame().reset_index()\n",
    "q2.rename(columns={0:'number of visits'}, inplace=True)\n",
    "list(q2[q2['number of visits']>10].itertuples(index=False, name=None))"
   ]
  },
  {
   "cell_type": "markdown",
   "metadata": {},
   "source": [
    "### Question 3: For each site, compute the unique number of users whose last visit (found in the original data set) was to that site. For instance, user \"LC3561\"'s last visit is to \"N0OTG\" based on timestamp data. Based on this measure, what are top three sites? (hint: site \"3POLC\" is ranked at 5th with 28 users whose last visit in the data set was to 3POLC; simply provide three pairs in the form (site_id, number of users).)"
   ]
  },
  {
   "cell_type": "code",
   "execution_count": 4,
   "metadata": {},
   "outputs": [
    {
     "data": {
      "text/plain": [
       "site_id\n",
       "5NPAU    992\n",
       "N0OTG    561\n",
       "QGO3G    289\n",
       "dtype: int64"
      ]
     },
     "execution_count": 4,
     "metadata": {},
     "output_type": "execute_result"
    }
   ],
   "source": [
    "# Groupby user and find the index of the latest timestamp for each user,\n",
    "# Choose data with the index got from the first step, then groupby site, find sites with top 3 number of \"last visits\".\n",
    "\n",
    "index_last_visit = df_1.groupby('user_id').ts.idxmax()\n",
    "df_1.loc[index_last_visit].groupby('site_id').size().sort_values(ascending=False)[:3]"
   ]
  },
  {
   "cell_type": "markdown",
   "metadata": {},
   "source": [
    "### Question 4: For each user, determine the first site he/she visited and the last site he/she visited based on the timestamp data. Compute the number of users whose first/last visits are to the same website. What is the number?"
   ]
  },
  {
   "cell_type": "code",
   "execution_count": 5,
   "metadata": {},
   "outputs": [
    {
     "data": {
      "text/plain": [
       "1670"
      ]
     },
     "execution_count": 5,
     "metadata": {},
     "output_type": "execute_result"
    }
   ],
   "source": [
    "# Groupby user and for each group: return true if their first/last visits are to the same website,\n",
    "# Sum it up, which is the number we want.\n",
    "\n",
    "q4 = df_1.groupby('user_id').apply(lambda x: x.loc[x.ts.idxmax].site_id == x.loc[x.ts.idxmin].site_id)\n",
    "q4.sum()"
   ]
  },
  {
   "cell_type": "code",
   "execution_count": null,
   "metadata": {},
   "outputs": [],
   "source": []
  }
 ],
 "metadata": {
  "kernelspec": {
   "display_name": "Python 3",
   "language": "python",
   "name": "python3"
  },
  "language_info": {
   "codemirror_mode": {
    "name": "ipython",
    "version": 3
   },
   "file_extension": ".py",
   "mimetype": "text/x-python",
   "name": "python",
   "nbconvert_exporter": "python",
   "pygments_lexer": "ipython3",
   "version": "3.6.5"
  }
 },
 "nbformat": 4,
 "nbformat_minor": 2
}
